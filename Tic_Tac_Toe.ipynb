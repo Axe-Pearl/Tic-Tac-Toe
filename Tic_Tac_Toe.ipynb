{
 "cells": [
  {
   "cell_type": "markdown",
   "metadata": {},
   "source": [
    "TIC TAC TOE"
   ]
  },
  {
   "cell_type": "code",
   "execution_count": 1,
   "metadata": {},
   "outputs": [],
   "source": [
    "#1 Taking input from user (O or X)\n",
    "def player_input():\n",
    "    marker = \"\"\n",
    "    while not (marker =='X' or marker =='O'):\n",
    "        marker = input('Player 1: Do you want to be X or O ?').upper()\n",
    "        \n",
    "    if marker == 'X':\n",
    "        return('X','O')\n",
    "    else:\n",
    "        return('O','X')"
   ]
  },
  {
   "cell_type": "code",
   "execution_count": 2,
   "metadata": {},
   "outputs": [],
   "source": [
    "#2 Deciding who goes first\n",
    "\n",
    "import random\n",
    "\n",
    "def choose_first():\n",
    "    if random.randint(0,1) == 0:\n",
    "        return 'Player 2'\n",
    "    else:\n",
    "        return 'Player 1'\n",
    "    "
   ]
  },
  {
   "cell_type": "code",
   "execution_count": 3,
   "metadata": {},
   "outputs": [],
   "source": [
    "#3 Would ask player 1 , which loaction to be marked\n",
    "\n",
    "def player_choice(board):\n",
    "    position = 0\n",
    "    \n",
    "    while position not in [1,2,3,4,5,6,7,8,9] or not space_check(board , position):\n",
    "        position = int(input(\"Choose your next position(1-9)\"))\n",
    "        \n",
    "    return position\n",
    "    "
   ]
  },
  {
   "cell_type": "code",
   "execution_count": 4,
   "metadata": {},
   "outputs": [],
   "source": [
    "#4 To display the board\n",
    "\n",
    "from IPython.display import clear_output\n",
    "\n",
    "def display_board(t):\n",
    "    clear_output()\n",
    "    print(t[7] + \"|\" + t[8] + \"|\" + t[9])\n",
    "    print(\"------\")\n",
    "    print(t[4] + \"|\" + t[5] + \"|\" + t[6])\n",
    "    print(\"------\")\n",
    "    print(t[1] + \"|\" + t[2] + \"|\" + t[3])\n",
    "    "
   ]
  },
  {
   "cell_type": "code",
   "execution_count": 5,
   "metadata": {},
   "outputs": [],
   "source": [
    "#5 Check if that location is empty\n",
    "\n",
    "def space_check(board , position):\n",
    "    return board[position] == ' '\n",
    "\n",
    "#Returns True when that location is empty"
   ]
  },
  {
   "cell_type": "code",
   "execution_count": 6,
   "metadata": {},
   "outputs": [],
   "source": [
    "#6 Check if it is winning\n",
    "\n",
    "def win_check(board ,mark):\n",
    "    return ((board[7] == mark and board[8] == mark and board[9] == mark) or #across the top\n",
    "            (board[4] == mark and board[5] == mark and board[6] == mark) or #across the middle\n",
    "            (board[1] == mark and board[2] == mark and board[3] == mark) or #across the bottom\n",
    "            (board[1] == mark and board[4] == mark and board[7] == mark) or #down the left\n",
    "            (board[2] == mark and board[5] == mark and board[8] == mark) or #down the middle\n",
    "            (board[3] == mark and board[6] == mark and board[9] == mark) or #down the right\n",
    "            (board[3] == mark and board[5] == mark and board[7] == mark) or #diagonal1\n",
    "            (board[1] == mark and board[5] == mark and board[9] == mark) )  #diagonal2\n",
    "           \n",
    "\n"
   ]
  },
  {
   "cell_type": "code",
   "execution_count": 7,
   "metadata": {},
   "outputs": [],
   "source": [
    "#7 Check if the board is full\n",
    "\n",
    "def full_board_check(board):\n",
    "    for i in range(1,10):\n",
    "        if space_check(board , i):\n",
    "            return False\n",
    "    return True\n",
    "\n",
    "#True if whole board is full"
   ]
  },
  {
   "cell_type": "code",
   "execution_count": 8,
   "metadata": {},
   "outputs": [],
   "source": [
    "#8 Update the board\n",
    "\n",
    "def place_marker(board , marker , position):\n",
    "    board[position] = marker\n"
   ]
  },
  {
   "cell_type": "code",
   "execution_count": 9,
   "metadata": {},
   "outputs": [],
   "source": [
    "#9 If they want to play again\n",
    "\n",
    "def replay():\n",
    "    return input(\"Do you want to play again ? Enter Yes or No:\").lower().startswith('y')\n"
   ]
  },
  {
   "cell_type": "code",
   "execution_count": null,
   "metadata": {},
   "outputs": [],
   "source": []
  },
  {
   "cell_type": "code",
   "execution_count": 10,
   "metadata": {},
   "outputs": [
    {
     "name": "stdout",
     "output_type": "stream",
     "text": [
      "X| | \n",
      "------\n",
      "O|X|O\n",
      "------\n",
      "X|O|X\n",
      "Player 1 won the game\n",
      "Do you want to play again ? Enter Yes or No:No\n"
     ]
    }
   ],
   "source": [
    "print(\"Welcome to Tic Tac Toe!!\")\n",
    "\n",
    "while True:\n",
    "    #Reset the board\n",
    "    theBoard = [' ']*10\n",
    "    player1_marker , player2_marker = player_input()\n",
    "    turn = choose_first()\n",
    "    print(turn + \" will go first.\")\n",
    "    play_game = input(\"Are you ready to play? Enter Yes or No\")\n",
    "    \n",
    "    if play_game.lower()[0] == 'y':\n",
    "        game_on = True\n",
    "    else:\n",
    "        game_on = False\n",
    "        \n",
    "    while game_on:\n",
    "        if turn == 'Player 1':\n",
    "            #Player1's Turn\n",
    "            display_board(theBoard)\n",
    "            position = player_choice(theBoard)\n",
    "            place_marker(theBoard , player1_marker , position)\n",
    "            \n",
    "            if win_check(theBoard , player1_marker):\n",
    "                display_board(theBoard)\n",
    "                print(\"Player 1 won the game\")\n",
    "                game_on = False\n",
    "            else:\n",
    "                if full_board_check(theBoard):\n",
    "                    display_board(theBoard)\n",
    "                    print(\"The game is draw\")\n",
    "                    break\n",
    "                    \n",
    "                else:\n",
    "                    turn = 'Player 2'\n",
    "            \n",
    "            \n",
    "        else:\n",
    "            #Player2's Turn\n",
    "            display_board(theBoard)\n",
    "            position = player_choice(theBoard)\n",
    "            place_marker(theBoard , player2_marker , position)\n",
    "            \n",
    "            if win_check(theBoard , player2_marker):\n",
    "                display_board(theBoard)\n",
    "                print(\"Player 2 won the game\")\n",
    "                game_on = False\n",
    "            else:\n",
    "                if full_board_check(theBoard):\n",
    "                    display_board(theBoard)\n",
    "                    print(\"The game is draw\")\n",
    "                    break\n",
    "                    \n",
    "                else:\n",
    "                    turn = 'Player 1'\n",
    "            \n",
    "    \n",
    "    if not replay():\n",
    "        break"
   ]
  },
  {
   "cell_type": "code",
   "execution_count": null,
   "metadata": {},
   "outputs": [],
   "source": []
  }
 ],
 "metadata": {
  "kernelspec": {
   "display_name": "Python 3.10.7 64-bit",
   "language": "python",
   "name": "python3"
  },
  "language_info": {
   "codemirror_mode": {
    "name": "ipython",
    "version": 3
   },
   "file_extension": ".py",
   "mimetype": "text/x-python",
   "name": "python",
   "nbconvert_exporter": "python",
   "pygments_lexer": "ipython3",
   "version": "3.10.7"
  },
  "vscode": {
   "interpreter": {
    "hash": "4b0585be34b7cadf514462f12c27334618210cf9a660b8f60f91549746f8e2ec"
   }
  }
 },
 "nbformat": 4,
 "nbformat_minor": 4
}
